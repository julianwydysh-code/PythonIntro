{
  "nbformat": 4,
  "nbformat_minor": 0,
  "metadata": {
    "colab": {
      "provenance": [],
      "authorship_tag": "ABX9TyOHERcq223qPySsY9wdSVZn",
      "include_colab_link": true
    },
    "kernelspec": {
      "name": "python3",
      "display_name": "Python 3"
    },
    "language_info": {
      "name": "python"
    }
  },
  "cells": [
    {
      "cell_type": "markdown",
      "metadata": {
        "id": "view-in-github",
        "colab_type": "text"
      },
      "source": [
        "<a href=\"https://colab.research.google.com/github/julianwydysh-code/PythonIntro/blob/main/treewalk.ipynb\" target=\"_parent\"><img src=\"https://colab.research.google.com/assets/colab-badge.svg\" alt=\"Open In Colab\"/></a>"
      ]
    },
    {
      "cell_type": "markdown",
      "source": [
        "###Definitions for Trees\n",
        "**Tree:** a drafted graph data structure made of nodes. Each node having exactly 1 parent except for the root node which has 0 parents. Each node may have 0 or more children.\n",
        "\n",
        "**Root:** top most node that has no parent\n",
        "\n",
        "**Leaf:** a tree node with no childeren  \n",
        "\n",
        "**Child:** a nodes children are node for which it has a direct child refrence.\n",
        "\n",
        "**N-ary Tree:**"
      ],
      "metadata": {
        "id": "6Q-oh7RIuU1P"
      }
    },
    {
      "cell_type": "code",
      "execution_count": null,
      "metadata": {
        "id": "JnQMeM7isl3R"
      },
      "outputs": [],
      "source": []
    }
  ]
}