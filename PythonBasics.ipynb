{
  "nbformat": 4,
  "nbformat_minor": 0,
  "metadata": {
    "colab": {
      "provenance": [],
      "authorship_tag": "ABX9TyO7YepnixnzZMotj4b6S2MH",
      "include_colab_link": true
    },
    "kernelspec": {
      "name": "python3",
      "display_name": "Python 3"
    },
    "language_info": {
      "name": "python"
    }
  },
  "cells": [
    {
      "cell_type": "markdown",
      "metadata": {
        "id": "view-in-github",
        "colab_type": "text"
      },
      "source": [
        "<a href=\"https://colab.research.google.com/github/julianwydysh-code/PythonIntro/blob/main/PythonBasics.ipynb\" target=\"_parent\"><img src=\"https://colab.research.google.com/assets/colab-badge.svg\" alt=\"Open In Colab\"/></a>"
      ]
    },
    {
      "cell_type": "markdown",
      "source": [
        "### This Notebook Shows Python Basics\n",
        "\n",
        "Colab & Jupyter provides the ability to make **notebooks**. Notebooks allow you to create *text* and *code* cells. Text cells support MarkDown. Code calls python.\n",
        "\n",
        "**Python Datatypes**\n",
        "* int\n",
        "* str\n",
        "* float\n",
        "* bool"
      ],
      "metadata": {
        "id": "yf-g33sm9O08"
      }
    },
    {
      "cell_type": "code",
      "execution_count": null,
      "metadata": {
        "colab": {
          "base_uri": "https://localhost:8080/"
        },
        "id": "-KBmtXbYAhQZ",
        "outputId": "a7b9821e-4a64-498e-9a63-b8096cb2b6e0"
      },
      "outputs": [
        {
          "output_type": "stream",
          "name": "stdout",
          "text": [
            "Hello world!\n"
          ]
        }
      ],
      "source": [
        "print('Hello world!')"
      ]
    },
    {
      "cell_type": "code",
      "source": [
        "x = 5\n",
        "s='hello'\n",
        "temp = 98.6\n",
        "iAmSam=False\n",
        "y='98.6'\n",
        "print(x+temp)"
      ],
      "metadata": {
        "colab": {
          "base_uri": "https://localhost:8080/"
        },
        "id": "zv8u61PEM42J",
        "outputId": "727279ab-7ee1-4788-d3a6-725413d83bb9"
      },
      "execution_count": 1,
      "outputs": [
        {
          "output_type": "stream",
          "name": "stdout",
          "text": [
            "103.6\n"
          ]
        }
      ]
    },
    {
      "cell_type": "markdown",
      "source": [
        "**Python Collection Types**\n",
        "\n",
        "* list - ordered, indexeed, like an array, mutable\n",
        "* tuple = immutable list\n",
        "* dict - a hashtable, a set of key value data pairs"
      ],
      "metadata": {
        "id": "V3urx9Y8Ngwo"
      }
    },
    {
      "cell_type": "code",
      "source": [
        "my_list=['I','love','CIS']\n",
        "my_list2=[3,'hello','frogs',4.3,True]"
      ],
      "metadata": {
        "id": "hbGQu7YNOBU0"
      },
      "execution_count": null,
      "outputs": []
    },
    {
      "cell_type": "markdown",
      "source": [
        "***The Representation Problem***\n",
        "\n",
        "How do we code states and actions of a real world problem in a programming\n",
        "\n",
        "**PEAS**\n",
        "* performance measure\n",
        "* Enviroment\n",
        "  * includes **state** and\n",
        "  * rules for how **actions** update teh state\n",
        "* actions\n",
        "* sensors - the portion of the world state that the agent can see\n",
        "* agent - an autonomous program that sees through sensors and determines actions.\n",
        "contionous vs. discreet\n",
        "\n",
        "###Example: Farmer, Wolf, Sheep, Oats River problem"
      ],
      "metadata": {
        "id": "hs8aa7SaOSCP"
      }
    },
    {
      "cell_type": "code",
      "source": [
        "#STATE\n",
        "farmer_is_on_top=True\n",
        "wolf_is_on_top=True\n",
        "sheep_is_on_top=True\n",
        "oats_is_on_top=True\n",
        "\n",
        "oats_is_intact=True\n",
        "sheep_is_alive=True\n",
        "\n",
        "def print_state():\n",
        "  \"\"\" Prints all the parties on top of river bank, followed by =======, then all parties below the river bank\"\"\"\n",
        "  # TODO\n",
        "  if farmer_is_on_top==True:\n",
        "    print('FARMER')\n",
        "  if wolf_is_on_top==True:\n",
        "    print('WOLF')\n",
        "  if sheep_is_on_top==True:\n",
        "    print('SHEEP')\n",
        "  if oats_is_on_top==True:\n",
        "    print('OATS')\n",
        "  print('===================')\n",
        "  # TODO\n",
        "  if farmer_is_on_top!=True:\n",
        "    print('FARMER')\n",
        "  if wolf_is_on_top!=True:\n",
        "    print('WOLF')\n",
        "  if sheep_is_on_top!=True:\n",
        "    print('SHEEP')\n",
        "  if oats_is_on_top!=True:\n",
        "    print('OATS')\n",
        "\n",
        "# ACTIONS\n",
        "\n",
        "def move(thing):\n",
        "  \"\"\" Updates STATE variables given that the farmer moves thing.\n",
        "  thing must be one of 'wolf', 'sheep', 'oats' \"\"\"\n",
        "  # TODO\n",
        "\n",
        "#################\n",
        "print_state()"
      ],
      "metadata": {
        "colab": {
          "base_uri": "https://localhost:8080/"
        },
        "id": "mghavNleR-M1",
        "outputId": "af421ab2-d128-483d-abf0-d5096f89d4cc"
      },
      "execution_count": 14,
      "outputs": [
        {
          "output_type": "stream",
          "name": "stdout",
          "text": [
            "FARMER\n",
            "WOLF\n",
            "SHEEP\n",
            "OATS\n",
            "===================\n"
          ]
        }
      ]
    }
  ]
}